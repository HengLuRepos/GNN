{
 "cells": [
  {
   "cell_type": "code",
   "execution_count": 1,
   "id": "630eab3d-48d0-4dba-9491-9a169821526e",
   "metadata": {},
   "outputs": [],
   "source": [
    "import torch\n",
    "import torch.nn as nn\n",
    "import os\n",
    "import numpy as np\n",
    "import scipy.sparse as sp"
   ]
  },
  {
   "cell_type": "code",
   "execution_count": 4,
   "id": "971ab9f2-a70d-4dd8-aa4d-db71fdb109c7",
   "metadata": {},
   "outputs": [],
   "source": [
    "import sys\n",
    "class Dataset:\n",
    "    def __init__(self, path, train=True):\n",
    "        file = path + 'train.txt' if train else path + 'test.txt'\n",
    "        self.num_user = 0\n",
    "        self.num_item = 0\n",
    "        self.users = []\n",
    "        self.unique_users = []\n",
    "        self.items = []\n",
    "        with open(file) as f:\n",
    "            for line in f.readlines():\n",
    "                if len(line) > 0:\n",
    "                    line = line.strip('\\n').split(' ')\n",
    "                    userId = int(line[0])\n",
    "                    item = [int(id) for id in line[1:]]\n",
    "                    self.num_user = max(self.num_user, userId)\n",
    "                    self.num_item = max(self.num_item, max(item))\n",
    "                    self.unique_users.append(userId)\n",
    "                    self.items.extend(item)\n",
    "                    self.users.extend([userId] * len(item))\n",
    "        self.users = np.array(self.users)\n",
    "        self.unique_users = np.array(self.unique_users)\n",
    "        self.items = np.array(self.items)\n",
    "        self.num_user += 1\n",
    "        self.num_item += 1\n",
    "\n",
    "        self.userItemMatrix = sp.csr_matrix((np.ones(len(self.users)), \n",
    "                                            (self.users, self.items)), \n",
    "                                            shape=(self.num_user,self.num_item))\n",
    "        \n",
    "        self.Graph = None\n",
    "        self.build_graph()\n",
    "    def _sp_to_torch(self,x):\n",
    "        coo = x.tocoo().astype(np.float32)\n",
    "        row = torch.LongTensor(coo.row)\n",
    "        col = torch.LongTensor(coo.col)\n",
    "        ind = torch.stack([row,col])\n",
    "        data = torch.FloatTensor(coo.data)\n",
    "        return torch.sparse.FloatTensor(ind,data, torch.Size(coo.shape))\n",
    "    def build_graph(self):\n",
    "\n",
    "        R = self.userItemMatrix.tocsr().astype(np.float32)\n",
    "        upper = sp.csc_matrix((self.num_user, self.num_user), dtype=np.float32)\n",
    "        upper = sp.hstack([upper, R.tocsc()])\n",
    "        lower = sp.csc_matrix((self.num_item, self.num_item),dtype=np.float32)\n",
    "        lower = sp.hstack([R.T.tocsc(), lower])\n",
    "        adj_mat = sp.vstack([upper.tocsr(), lower.tocsr()])\n",
    "        #adj_mat = sp.bmat([[None, R], [R.T.tocsr().astype(np.float32), None]], format=\"csr\", dtype=np.float32)\n",
    "\n",
    "\n",
    "        rowsum = np.array(adj_mat.sum(axis=1))\n",
    "        d_inv = np.power(rowsum, -0.5).flatten()\n",
    "        d_inv[np.isinf(d_inv)] = 0.\n",
    "        d_mat = sp.diags(d_inv)\n",
    "\n",
    "        norm_adj = d_mat.dot(adj_mat)\n",
    "        norm_adj = norm_adj.dot(adj_mat)\n",
    "        norm_adj = norm_adj.tocsr()\n",
    "\n",
    "        self.Graph = self._sp_to_torch(norm_adj)\n",
    "        self.Graph = self.Graph.coalesce()\n",
    "    def get_graph(self):\n",
    "        return self.Graph\n",
    "    def get_user_number(self):\n",
    "        return self.num_user\n",
    "    def get_item_number(self):\n",
    "        return self.num_item\n",
    "    def get_positive_items(self, users):\n",
    "        positive_items = []\n",
    "\n",
    "        for user in users:\n",
    "            pos_item = self.userItemMatrix[user].nonzero()[1]\n",
    "            positive_items.append(pos_item)\n",
    "\n",
    "        return positive_items"
   ]
  },
  {
   "cell_type": "code",
   "execution_count": 5,
   "id": "976865b0-9f47-4048-a221-8458e9ba6c64",
   "metadata": {},
   "outputs": [
    {
     "name": "stderr",
     "output_type": "stream",
     "text": [
      "/tmp/ipykernel_8319/2244797653.py:39: UserWarning: torch.sparse.SparseTensor(indices, values, shape, *, device=) is deprecated.  Please use torch.sparse_coo_tensor(indices, values, shape, dtype=, device=). (Triggered internally at ../torch/csrc/utils/tensor_new.cpp:605.)\n",
      "  return torch.sparse.FloatTensor(ind,data, torch.Size(coo.shape))\n"
     ]
    }
   ],
   "source": [
    "amazon_books = Dataset('./data/amazon-books/')"
   ]
  },
  {
   "cell_type": "code",
   "execution_count": null,
   "id": "1ec9bddc-94f1-42b5-943b-93e5c394f55d",
   "metadata": {},
   "outputs": [],
   "source": [
    "amazon_books.get_positive_items([2,3])"
   ]
  },
  {
   "cell_type": "code",
   "execution_count": null,
   "id": "ae985a19-e126-450f-bb07-f5f599911793",
   "metadata": {},
   "outputs": [],
   "source": [
    "import torch.nn.functional  as F\n",
    "class LightGCN(nn.Module):\n",
    "    def __init__(self, dataset: Dataset, config):\n",
    "        super().__init__()\n",
    "        self.dataset = dataset\n",
    "        self.num_user = dataset.get_user_number()\n",
    "        self.num_item = dataset.get_item_number()\n",
    "        self.graph = dataset.get_graph()\n",
    "        self.embedding_dim = config.embedding_dim\n",
    "        self.lr = config.lr\n",
    "        self.layers = config.layers\n",
    "        self.embedding_user = nn.Embedding(\n",
    "            num_embeddings=self.num_user,\n",
    "            embedding_dim=self.embedding_dim)\n",
    "        self.embedding_item = nn.Embedding(\n",
    "            num_embeddings=self.num_item,\n",
    "            embedding_dim=self.embedding_dim)\n",
    "        nn.init.normal_(self.embedding_user.weight)\n",
    "        nn.init.normal_(self.embedding_item.weight)\n",
    "\n",
    "    def propagate(self):\n",
    "        user_weight = self.embedding_user.weight\n",
    "        item_weight = self.embedding_item.weight\n",
    "        embed = torch.cat([user_weight, item_weight])\n",
    "        \n",
    "        embs = [embed]\n",
    "        for layer in range(self.layers):\n",
    "            embed = torch.sparse.mm(self.graph, embed)\n",
    "            embs.append(embed)\n",
    "        embs = torch.stack(embs, dim=1)\n",
    "        out = torch.mean(embs, dim=1)\n",
    "        users, items = torch.split(out, [self.num_user, self.num_item])\n",
    "        return users, items\n",
    "    def forward(self, users, items):\n",
    "        user_emb, item_emb = self.propagate()\n",
    "\n",
    "        user_emb = user_emb[users]\n",
    "        item_emb = item_emb[items]\n",
    "\n",
    "        scores = torch.mul(user_emb, item_emb).sum(dim=1)\n",
    "        return scores\n",
    "    def bpr_loss(self, users):\n",
    "        pos_items = self.dataset.get_positive_items(users)\n",
    "        user_embs, item_embs = self.propagate()\n",
    "        loss = 0.0\n",
    "        for index, user in enumerate(users):\n",
    "            user_emb = user_embs[user]\n",
    "            pos_item = pos_items[index]\n",
    "            pos_embs = item_embs[pos_item]\n",
    "            neg_item = ~np.isin(range(self.num_item), pos_item)\n",
    "            neg_embs = item_embs[neg_item]\n",
    "            yui = torch.mul(user_emb, pos_embs).sum(axis=1)\n",
    "            yuj = torch.mul(user_emb, neg_embs).sum(axis=1, keepdim=True)\n",
    "            loss += F.softplus(yuj - yui).sum()\n",
    "        return loss"
   ]
  },
  {
   "cell_type": "code",
   "execution_count": null,
   "id": "153f4512-e94f-4942-8767-36ddda0255cc",
   "metadata": {},
   "outputs": [],
   "source": [
    "class Config:\n",
    "    def __init__(self):\n",
    "        self.embedding_dim = 128\n",
    "        self.lr = 0.01\n",
    "        self.layers = 3\n",
    "config = Config()"
   ]
  },
  {
   "cell_type": "code",
   "execution_count": null,
   "id": "b7c499a7-3257-4f94-8f62-780ff8389e5e",
   "metadata": {},
   "outputs": [],
   "source": [
    "lgcn = LightGCN(amazon_books, config)"
   ]
  },
  {
   "cell_type": "code",
   "execution_count": null,
   "id": "f6032c7c-a8c7-4d6e-ae7e-9711a132b123",
   "metadata": {},
   "outputs": [],
   "source": [
    "loss=lgcn.bpr_loss([2,3])"
   ]
  },
  {
   "cell_type": "code",
   "execution_count": null,
   "id": "b6ec5734-dbc2-4155-a4c0-8543c5f1a687",
   "metadata": {},
   "outputs": [],
   "source": [
    "loss.backward()"
   ]
  },
  {
   "cell_type": "code",
   "execution_count": null,
   "id": "32471b0b-06aa-4151-b054-e862cece0076",
   "metadata": {},
   "outputs": [],
   "source": []
  }
 ],
 "metadata": {
  "kernelspec": {
   "display_name": "GNN",
   "language": "python",
   "name": "gnn"
  },
  "language_info": {
   "codemirror_mode": {
    "name": "ipython",
    "version": 3
   },
   "file_extension": ".py",
   "mimetype": "text/x-python",
   "name": "python",
   "nbconvert_exporter": "python",
   "pygments_lexer": "ipython3",
   "version": "3.11.5"
  }
 },
 "nbformat": 4,
 "nbformat_minor": 5
}
